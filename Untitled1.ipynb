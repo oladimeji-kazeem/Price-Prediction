{
 "cells": [
  {
   "cell_type": "code",
   "execution_count": 1,
   "id": "0025a398",
   "metadata": {},
   "outputs": [],
   "source": [
    "import random"
   ]
  },
  {
   "cell_type": "code",
   "execution_count": 2,
   "id": "675f2483",
   "metadata": {},
   "outputs": [],
   "source": [
    "def simulate_journey():\n",
    "    demand_states = ['As expected', 'Busy', 'Very Busy']\n",
    "    probabilities = [0.5, 0.35, 0.15]\n",
    "    avg_passengers = [252, 324, 393]\n",
    "    std_deviations = [56, 63, 81]\n",
    "\n",
    "    # Determine demand state\n",
    "    demand_state = random.choices(demand_states, probabilities)[0]\n",
    "\n",
    "    # Calculate passenger numbers based on demand state\n",
    "    if demand_state == 'As expected':\n",
    "        passenger_num = round(random.normalvariate(avg_passengers[0], std_deviations[0]))\n",
    "    elif demand_state == 'Busy':\n",
    "        passenger_num = round(random.normalvariate(avg_passengers[1], std_deviations[1]))\n",
    "    else:  # 'Very Busy'\n",
    "        passenger_num = round(random.normalvariate(avg_passengers[2], std_deviations[2]))\n",
    "\n",
    "    # Calculate revenue and penalty\n",
    "    ticket_price = 32\n",
    "    revenue = passenger_num * ticket_price\n",
    "    penalty = 13500 if passenger_num > 480 else 0\n",
    "\n",
    "    return passenger_num, revenue - penalty, penalty > 0"
   ]
  },
  {
   "cell_type": "code",
   "execution_count": 3,
   "id": "de8a1d54",
   "metadata": {},
   "outputs": [],
   "source": [
    "# Perform simulation for 500 journeys\n",
    "num_simulations = 500\n",
    "passenger_nums = []\n",
    "revenues = []\n",
    "penalty_counts = 0"
   ]
  },
  {
   "cell_type": "code",
   "execution_count": 4,
   "id": "1c4614eb",
   "metadata": {},
   "outputs": [],
   "source": [
    "for _ in range(num_simulations):\n",
    "    passenger_num, revenue, penalty = simulate_journey()\n",
    "    passenger_nums.append(passenger_num)\n",
    "    revenues.append(revenue)\n",
    "    if penalty:\n",
    "        penalty_counts += 1"
   ]
  },
  {
   "cell_type": "code",
   "execution_count": 5,
   "id": "f261eb9e",
   "metadata": {},
   "outputs": [],
   "source": [
    "# Calculate metrics\n",
    "avg_passengers = sum(passenger_nums) / num_simulations\n",
    "avg_revenue = sum(revenues) / num_simulations\n",
    "penalty_prob = penalty_counts / num_simulations"
   ]
  },
  {
   "cell_type": "code",
   "execution_count": 6,
   "id": "d80f61e5",
   "metadata": {},
   "outputs": [
    {
     "name": "stdout",
     "output_type": "stream",
     "text": [
      "1) Average number of passengers: 297.9\n",
      "2) Average revenue (accounting for penalties): £ 9208.8\n",
      "3) Probability of paying a penalty: 0.024\n"
     ]
    }
   ],
   "source": [
    "# Print results\n",
    "print(\"1) Average number of passengers:\", avg_passengers)\n",
    "print(\"2) Average revenue (accounting for penalties): £\", avg_revenue)\n",
    "print(\"3) Probability of paying a penalty:\", penalty_prob)"
   ]
  },
  {
   "cell_type": "code",
   "execution_count": null,
   "id": "41da7fe4",
   "metadata": {},
   "outputs": [],
   "source": []
  }
 ],
 "metadata": {
  "kernelspec": {
   "display_name": "Python 3 (ipykernel)",
   "language": "python",
   "name": "python3"
  },
  "language_info": {
   "codemirror_mode": {
    "name": "ipython",
    "version": 3
   },
   "file_extension": ".py",
   "mimetype": "text/x-python",
   "name": "python",
   "nbconvert_exporter": "python",
   "pygments_lexer": "ipython3",
   "version": "3.9.13"
  }
 },
 "nbformat": 4,
 "nbformat_minor": 5
}
